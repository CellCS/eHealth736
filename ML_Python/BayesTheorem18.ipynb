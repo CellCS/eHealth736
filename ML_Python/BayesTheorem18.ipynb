{
 "cells": [
  {
   "cell_type": "code",
   "execution_count": null,
   "metadata": {
    "collapsed": true
   },
   "outputs": [],
   "source": [
    "# Bayes' Theorem\n",
    "* conditional probalility, \n",
    "# P(A|B) = P(A)P(B|A) / P(B)b"
   ]
  },
  {
   "cell_type": "code",
   "execution_count": null,
   "metadata": {
    "collapsed": true
   },
   "outputs": [],
   "source": [
    "# Drug test\n",
    "* even a highly accurate drug test can produce more false positives then true positives"
   ]
  },
  {
   "cell_type": "code",
   "execution_count": null,
   "metadata": {
    "collapsed": true
   },
   "outputs": [],
   "source": [
    "# drug test\n",
    "* we have a drug test that can accurately identify users of a drug 99% of the time\n",
    "* and accurately has a negative result for 99% of nonusers\n",
    "* But only 0.3% of the overall population acturally uses this drug"
   ]
  },
  {
   "cell_type": "code",
   "execution_count": null,
   "metadata": {
    "collapsed": true
   },
   "outputs": [],
   "source": [
    "# Bayes'\n",
    "* Even A = is a user of the drug\n",
    "* Even B = tested positively for the drug\n",
    "\n",
    "We can work out from that information tht P(B) is 1.3% (0.99 * 0.003 + 0.01 *0.997) - the probability of thesting positive\n",
    "if you do use, plus the probability of testing positive if you do not"
   ]
  },
  {
   "cell_type": "markdown",
   "metadata": {},
   "source": [
    "# P(A|B) = P(A) P(B|A) / P(B) = 0.003 *0.99 / 0.013 =22.8%"
   ]
  },
  {
   "cell_type": "code",
   "execution_count": null,
   "metadata": {
    "collapsed": true
   },
   "outputs": [],
   "source": [
    "#\n",
    "* so the odds of someone being an actual user of the drug given that they teted positive is only 22.8%\n",
    "* Even though P(B|A) is high (99%), it does not mean P(A|B) is high"
   ]
  }
 ],
 "metadata": {
  "kernelspec": {
   "display_name": "Python [default]",
   "language": "python",
   "name": "python3"
  },
  "language_info": {
   "codemirror_mode": {
    "name": "ipython",
    "version": 3
   },
   "file_extension": ".py",
   "mimetype": "text/x-python",
   "name": "python",
   "nbconvert_exporter": "python",
   "pygments_lexer": "ipython3",
   "version": "3.5.2"
  }
 },
 "nbformat": 4,
 "nbformat_minor": 1
}
