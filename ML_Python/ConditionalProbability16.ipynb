{
 "cells": [
  {
   "cell_type": "markdown",
   "metadata": {},
   "source": [
    "# Problem:  A math teacher gave her class two tests. 25% of the class passed both tests \n",
    "    and 42% of the class passed the first test. \n",
    "    What percent of those who passed the first test also passed the second test?"
   ]
  },
  {
   "cell_type": "markdown",
   "metadata": {},
   "source": [
    "# Analysis:  \n",
    "* This problem describes a conditional probability since it asks us to find the probability \n",
    "* that the second test was passed given that the first test was passed.\n"
   ]
  },
  {
   "cell_type": "markdown",
   "metadata": {},
   "source": [
    "# P(B|A) = P(A and B)/ P (A)"
   ]
  },
  {
   "cell_type": "code",
   "execution_count": null,
   "metadata": {
    "collapsed": true
   },
   "outputs": [],
   "source": []
  },
  {
   "cell_type": "code",
   "execution_count": 5,
   "metadata": {
    "collapsed": false
   },
   "outputs": [],
   "source": [
    "import random\n",
    "random.seed(0)\n",
    "\n",
    "totals = {20:0, 30:0, 40:0, 50:0, 60:0, 70:0}\n",
    "\n",
    "purchases = {20:0, 30:0, 40:0, 50:0, 60:0, 70:0}\n",
    "totalPurchases = 0\n",
    "for _ in range (100000):\n",
    "    ageDecade = random.choice([20,30,40,50,60,70])\n",
    "    perchaseProbability = float(ageDecade)/100.0\n",
    "    totals[ageDecade]+=1\n",
    "    if (random.random() < perchaseProbability):\n",
    "        totalPurchases +=1\n",
    "        purchases[ageDecade] +=1"
   ]
  },
  {
   "cell_type": "code",
   "execution_count": 6,
   "metadata": {
    "collapsed": false
   },
   "outputs": [
    {
     "data": {
      "text/plain": [
       "{20: 16536, 30: 16777, 40: 16795, 50: 16748, 60: 16588, 70: 16556}"
      ]
     },
     "execution_count": 6,
     "metadata": {},
     "output_type": "execute_result"
    }
   ],
   "source": [
    "totals"
   ]
  },
  {
   "cell_type": "code",
   "execution_count": 7,
   "metadata": {
    "collapsed": false
   },
   "outputs": [
    {
     "data": {
      "text/plain": [
       "{20: 3328, 30: 4948, 40: 6760, 50: 8413, 60: 9951, 70: 11618}"
      ]
     },
     "execution_count": 7,
     "metadata": {},
     "output_type": "execute_result"
    }
   ],
   "source": [
    "purchases"
   ]
  },
  {
   "cell_type": "code",
   "execution_count": 9,
   "metadata": {
    "collapsed": false
   },
   "outputs": [
    {
     "data": {
      "text/plain": [
       "45018"
      ]
     },
     "execution_count": 9,
     "metadata": {},
     "output_type": "execute_result"
    }
   ],
   "source": [
    "totalPurchases"
   ]
  },
  {
   "cell_type": "markdown",
   "metadata": {},
   "source": [
    "# P(E|F), E is purchase and F is you are in your 30's.\n",
    "* how many 30 year olds bought sth"
   ]
  },
  {
   "cell_type": "code",
   "execution_count": 10,
   "metadata": {
    "collapsed": false
   },
   "outputs": [
    {
     "name": "stdout",
     "output_type": "stream",
     "text": [
      "P(purchase |30s):  0.2949275794242117\n"
     ]
    }
   ],
   "source": [
    "PEF = float(purchases[30]) / float (totals[30])\n",
    "print ('P(purchase |30s): ', PEF)"
   ]
  },
  {
   "cell_type": "code",
   "execution_count": 11,
   "metadata": {
    "collapsed": false
   },
   "outputs": [
    {
     "name": "stdout",
     "output_type": "stream",
     "text": [
      "P(30s):  0.16777\n"
     ]
    }
   ],
   "source": [
    "# P(F)\n",
    "\n",
    "PF = float(totals[30]) / 100000.0\n",
    "print ('P(30s): ', PF)"
   ]
  },
  {
   "cell_type": "code",
   "execution_count": 13,
   "metadata": {
    "collapsed": false
   },
   "outputs": [
    {
     "name": "stdout",
     "output_type": "stream",
     "text": [
      "P(purchase):  0.45018\n"
     ]
    }
   ],
   "source": [
    "# P(E)\n",
    "\n",
    "PE = float(totalPurchases) / 100000.0\n",
    "print (\"P(purchase): \", PE)"
   ]
  },
  {
   "cell_type": "markdown",
   "metadata": {},
   "source": [
    "# \n",
    "* if E and F were independent, then we coul expect P(E|F) to be about the same as P(E).\n",
    "* but they are not, PE is 0.55, and P(E|F) is 0.7.\n",
    "* so that tell sus that E and F are dependent (which we know they are in this example)"
   ]
  },
  {
   "cell_type": "code",
   "execution_count": 15,
   "metadata": {
    "collapsed": false
   },
   "outputs": [
    {
     "name": "stdout",
     "output_type": "stream",
     "text": [
      "P(30's)P(Purchases)  0.07552669860000001\n"
     ]
    }
   ],
   "source": [
    "print (\"P(30's)P(Purchases) \", PE*PF)"
   ]
  },
  {
   "cell_type": "markdown",
   "metadata": {},
   "source": [
    "# \n",
    "* P(E, F) is deffrent from P(E|F), P(E|F) wourld be the probability of both being in your 30's and buying something"
   ]
  },
  {
   "cell_type": "code",
   "execution_count": 16,
   "metadata": {
    "collapsed": false
   },
   "outputs": [
    {
     "name": "stdout",
     "output_type": "stream",
     "text": [
      "P(30's, Perchase)  0.04948\n"
     ]
    }
   ],
   "source": [
    "print (\"P(30's, Perchase) \", float(purchases[30]) /100000.0)"
   ]
  },
  {
   "cell_type": "markdown",
   "metadata": {},
   "source": [
    "#\n",
    "P(E, F) = P(E)P(F), and they are prettey close in this example. Due to the random nature of the data it won't be exact.\n",
    "P(E|F) = P(E|F)/P(F)"
   ]
  },
  {
   "cell_type": "code",
   "execution_count": 17,
   "metadata": {
    "collapsed": false
   },
   "outputs": [
    {
     "data": {
      "text/plain": [
       "0.2949275794242117"
      ]
     },
     "execution_count": 17,
     "metadata": {},
     "output_type": "execute_result"
    }
   ],
   "source": [
    "(float(purchases[30])/ 100000.0) / PF"
   ]
  },
  {
   "cell_type": "markdown",
   "metadata": {},
   "source": [
    "# solution"
   ]
  },
  {
   "cell_type": "code",
   "execution_count": 18,
   "metadata": {
    "collapsed": true
   },
   "outputs": [],
   "source": [
    "import random\n",
    "random.seed(0)"
   ]
  },
  {
   "cell_type": "code",
   "execution_count": 20,
   "metadata": {
    "collapsed": false
   },
   "outputs": [],
   "source": [
    "totals = {20:0, 30:0, 40:0, 50:0, 60:0, 70:0}\n",
    "purchases = {20:0, 30:0, 40:0, 50:0, 60:0, 70:0}\n",
    "\n",
    "totalPurchases = 0\n",
    "for _ in range (100000):\n",
    "    ageDecade = random.choice([20,30,40,50,60,70])\n",
    "    # purchaseProbability = float(ageDecade)/100.0\n",
    "    purchaseProbablility = 0.4\n",
    "    totals[ageDecade]+=1\n",
    "    if (random.random() < purchaseProbablility):\n",
    "        totalPurchases +=1\n",
    "        purchases[ageDecade] +=1"
   ]
  },
  {
   "cell_type": "code",
   "execution_count": 24,
   "metadata": {
    "collapsed": false
   },
   "outputs": [
    {
     "name": "stdout",
     "output_type": "stream",
     "text": [
      "P(purchase|30s):  0.3950050664600346\n"
     ]
    }
   ],
   "source": [
    "PEF = float(purchases[30])/float(totals[30])\n",
    "print (\"P(purchase|30s): \", PEF)"
   ]
  },
  {
   "cell_type": "code",
   "execution_count": 28,
   "metadata": {
    "collapsed": false
   },
   "outputs": [
    {
     "name": "stdout",
     "output_type": "stream",
     "text": [
      "P(Purchases):  0.40238\n"
     ]
    }
   ],
   "source": [
    "PE = float(totalPurchases)/100000.0\n",
    "print (\"P(Purchases): \", PE)"
   ]
  },
  {
   "cell_type": "code",
   "execution_count": null,
   "metadata": {
    "collapsed": true
   },
   "outputs": [],
   "source": [
    "# so close each other\n",
    "* so we can say that E and F are likely independnt variables"
   ]
  },
  {
   "cell_type": "code",
   "execution_count": null,
   "metadata": {
    "collapsed": true
   },
   "outputs": [],
   "source": []
  },
  {
   "cell_type": "code",
   "execution_count": null,
   "metadata": {
    "collapsed": true
   },
   "outputs": [],
   "source": []
  }
 ],
 "metadata": {
  "anaconda-cloud": {},
  "kernelspec": {
   "display_name": "Python [default]",
   "language": "python",
   "name": "python3"
  },
  "language_info": {
   "codemirror_mode": {
    "name": "ipython",
    "version": 3
   },
   "file_extension": ".py",
   "mimetype": "text/x-python",
   "name": "python",
   "nbconvert_exporter": "python",
   "pygments_lexer": "ipython3",
   "version": "3.5.2"
  }
 },
 "nbformat": 4,
 "nbformat_minor": 1
}
